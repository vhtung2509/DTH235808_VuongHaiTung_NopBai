{
 "cells": [
  {
   "cell_type": "code",
   "execution_count": null,
   "id": "a4768e39",
   "metadata": {},
   "outputs": [],
   "source": [
    "# Câu 1: Kiểm Tra Năm Nhuần\n",
    "nam = int(input(\"Nhập vào một năm: \"))\n",
    "\n",
    "if (nam % 4 == 0 and nam % 100 != 0) or (nam % 400 == 0):\n",
    "    print(f\"{nam} là năm nhuận.\")\n",
    "else:\n",
    "    print(f\"{nam} không phải là năm nhuận.\")"
   ]
  },
  {
   "cell_type": "code",
   "execution_count": null,
   "id": "dd0a8650",
   "metadata": {},
   "outputs": [],
   "source": [
    "# Câu 2: Đếm số ngày trong tháng\n",
    "print(\"Chương trình đếm số ngày trong tháng.\")\n",
    "month=int(input(\"Nhập vào 1 tháng:\"))\n",
    "if month in (1,3,5,7,8,10,12):\n",
    " print(\"Tháng \", month, \" có 31 ngày\")\n",
    "elif month in (4,6,9,11):\n",
    " print(\"Tháng \", month, \" có 30 ngày\")\n",
    "elif month==2:\n",
    " year=int(input(\"Mời bạn nhập vào năm:\"))\n",
    " if (year % 4 ==0 and year % 100 != 0) or year % 400\n",
    "==0:\n",
    " print(\"Tháng \",month, \" có 29 ngày\")\n",
    " else:\n",
    " print(\"Tháng \", month, \" có 28 ngày\")\n",
    "else:\n",
    " print(\"Tháng \", month, \" không hợp lệ\")"
   ]
  },
  {
   "cell_type": "code",
   "execution_count": null,
   "id": "bb6ef354",
   "metadata": {},
   "outputs": [],
   "source": [
    "# Câu 3: Phương trình bậc 2\n",
    "# Viết chương trình giải phương trình bậc 2: ax2+bx+c=0\n",
    "import math\n",
    "\n",
    "a = float(input(\"Nhập hệ số a: \"))\n",
    "b = float(input(\"Nhập hệ số b: \"))\n",
    "c = float(input(\"Nhập hệ số c: \"))\n",
    "\n",
    "if a == 0:\n",
    "    # Phương trình trở thành bậc nhất bx + c = 0\n",
    "    if b == 0:\n",
    "        if c == 0:\n",
    "            print(\"Phương trình có vô số nghiệm.\")\n",
    "        else:\n",
    "            print(\"Phương trình vô nghiệm.\")\n",
    "    else:\n",
    "        x = -c / b\n",
    "        print(f\"Phương trình có một nghiệm: x = {x}\")\n",
    "else:\n",
    "    delta = b**2 - 4*a*c\n",
    "    if delta < 0:\n",
    "        print(\"Phương trình vô nghiệm.\")\n",
    "    elif delta == 0:\n",
    "        x = -b / (2*a)\n",
    "        print(f\"Phương trình có nghiệm kép: x = {x}\")\n",
    "    else:\n",
    "        x1 = (-b + math.sqrt(delta)) / (2*a)\n",
    "        x2 = (-b - math.sqrt(delta)) / (2*a)\n",
    "        print(f\"Phương trình có 2 nghiệm phân biệt: x1 = {x1}, x2 = {x2}\")"
   ]
  },
  {
   "cell_type": "code",
   "execution_count": null,
   "id": "5695889d",
   "metadata": {},
   "outputs": [],
   "source": [
    "# Câu 4 Hãy cho biết kết quả của Boolean Expression\n",
    "# Cho x, y, z = 3, 5, 7. Hãy cho biết kết quả của Boolean Expression\n",
    "print(\"(a)\", x == 3)                  # True\n",
    "print(\"(b)\", x < y)                   # True\n",
    "print(\"(c)\", x >= y)                  # False\n",
    "print(\"(d)\", x <= y)                  # True\n",
    "print(\"(e)\", x != y - 2)              # False (3 != 5-2 => 3 != 3 => False)\n",
    "print(\"(f)\", x < 10)                  # True\n",
    "print(\"(g)\", x >= 0 and x < 10)       # True (3 >= 0 and 3 < 10)\n",
    "print(\"(h)\", x < 0 and x < 10)        # False (3 < 0 là False)\n",
    "print(\"(i)\", x >= 0 and x < 2)        # False (3 < 2 là False)\n",
    "print(\"(j)\", x < 0 or x < 10)         # True (3 < 10 là True)\n",
    "print(\"(k)\", x > 0 or x < 10)         # True (3 > 0 là True)\n",
    "print(\"(l)\", x < 0 or x > 10)         # False (3 < 0 là False, 3 > 10 là False)"
   ]
  },
  {
   "cell_type": "code",
   "execution_count": null,
   "id": "c4010119",
   "metadata": {},
   "outputs": [],
   "source": [
    "# Câu 5: Cho biết kết quả xuất ra màn hình với các giá trị khác nhau của i, j, k\n",
    "\n",
    "def test_case(i, j, k):\n",
    "    orig = (i, j, k)\n",
    "    if i < j:\n",
    "        if j < k:\n",
    "            i = j\n",
    "        else:\n",
    "            j = k\n",
    "    else:\n",
    "        if j > k:\n",
    "            j = i\n",
    "        else:\n",
    "            i = k\n",
    "    print(f\"Với i, j, k ban đầu = {orig} => Kết quả: i = {i}, j = {j}, k = {k}\")\n",
    "\n",
    "# Các trường hợp đề bài yêu cầu\n",
    "test_case(3, 5, 7)  # (a)\n",
    "test_case(3, 7, 5)  # (b)\n",
    "test_case(5, 3, 7)  # (c)\n",
    "test_case(5, 7, 3)  # (d)\n",
    "test_case(7, 3, 5)  # (e)"
   ]
  },
  {
   "cell_type": "code",
   "execution_count": null,
   "id": "6506633f",
   "metadata": {},
   "outputs": [],
   "source": [
    "# Câu 6: Đọc số n có tối đa 2 chữ số\n",
    "\n",
    "n = int(input(\"Nhập số n (tối đa 2 chữ số): \"))\n",
    "\n",
    "don_vi = [\"\", \"một\", \"hai\", \"ba\", \"bốn\", \"năm\", \"sáu\", \"bảy\", \"tám\", \"chín\"]\n",
    "hang_chuc = [\"\", \"mười\", \"hai mươi\", \"ba mươi\", \"bốn mươi\", \"năm mươi\", \"sáu mươi\", \"bảy mươi\", \"tám mươi\", \"chín mươi\"]\n",
    "\n",
    "if n < 0 or n > 99:\n",
    "    print(\"Vui lòng nhập số từ 0 đến 99.\")\n",
    "elif n == 0:\n",
    "    print(\"Không\")\n",
    "elif n < 10:\n",
    "    print(don_vi[n].capitalize())\n",
    "else:\n",
    "    chuc = n // 10\n",
    "    dv = n % 10\n",
    "    if chuc == 1:\n",
    "        if dv == 0:\n",
    "            print(\"Mười\")\n",
    "        elif dv == 5:\n",
    "            print(\"Mười lăm\")\n",
    "        else:\n",
    "            print(\"Mười\", don_vi[dv])\n",
    "    else:\n",
    "        if dv == 0:\n",
    "            print(hang_chuc[chuc].capitalize())\n",
    "        elif dv == 1:\n",
    "            print(hang_chuc[chuc].capitalize(), \"mốt\")\n",
    "        elif dv == 5:\n",
    "            print(hang_chuc[chuc].capitalize(), \"lăm\")\n",
    "        else:\n",
    "            print(hang_chuc[chuc].capitalize(), don_vi[dv])"
   ]
  },
  {
   "cell_type": "code",
   "execution_count": 1,
   "id": "ee02ea82",
   "metadata": {},
   "outputs": [
    {
     "name": "stdout",
     "output_type": "stream",
     "text": [
      "Ngày kế tiếp là: 16/8/2020\n"
     ]
    }
   ],
   "source": [
    "# Câu 7: Nhập vào một ngày (ngày, tháng, năm). Tìm ngày kế sau ngày vừa nhập (ngày/tháng/năm).\n",
    "\n",
    "def la_nam_nhuan(nam):\n",
    "    return (nam % 4 == 0 and nam % 100 != 0) or (nam % 400 == 0)\n",
    "\n",
    "def so_ngay_trong_thang(thang, nam):\n",
    "    if thang in [1, 3, 5, 7, 8, 10, 12]:\n",
    "        return 31\n",
    "    elif thang in [4, 6, 9, 11]:\n",
    "        return 30\n",
    "    elif thang == 2:\n",
    "        return 29 if la_nam_nhuan(nam) else 28\n",
    "    else:\n",
    "        return 0\n",
    "\n",
    "# Nhập ngày, tháng, năm\n",
    "ngay = int(input(\"Nhập ngày: \"))\n",
    "thang = int(input(\"Nhập tháng: \"))\n",
    "nam = int(input(\"Nhập năm: \"))\n",
    "\n",
    "ngay += 1\n",
    "so_ngay = so_ngay_trong_thang(thang, nam)\n",
    "\n",
    "if ngay > so_ngay:\n",
    "    ngay = 1\n",
    "    thang += 1\n",
    "    if thang > 12:\n",
    "        thang = 1\n",
    "        nam += 1\n",
    "\n",
    "print(f\"Ngày kế tiếp là: {ngay}/{thang}/{nam}\")"
   ]
  },
  {
   "cell_type": "code",
   "execution_count": 2,
   "id": "56dc6fbb",
   "metadata": {},
   "outputs": [
    {
     "name": "stdout",
     "output_type": "stream",
     "text": [
      "10.0 + 3.0 = 13.0\n"
     ]
    }
   ],
   "source": [
    "# Câu 8: Nhập vào 2 giá trị a, b và phép toán ‘+’, ‘-’, ‘*’, ‘/’. Xuất kết quả đúng phép toán\n",
    "\n",
    "a = float(input(\"Nhập giá trị a: \"))\n",
    "b = float(input(\"Nhập giá trị b: \"))\n",
    "op = input(\"Nhập phép toán (+, -, *, /): \")\n",
    "\n",
    "if op == \"+\":\n",
    "    print(f\"{a} + {b} = {a + b}\")\n",
    "elif op == \"-\":\n",
    "    print(f\"{a} - {b} = {a - b}\")\n",
    "elif op == \"*\":\n",
    "    print(f\"{a} * {b} = {a * b}\")\n",
    "elif op == \"/\":\n",
    "    if b != 0:\n",
    "        print(f\"{a} / {b} = {a / b}\")\n",
    "    else:\n",
    "        print(\"Không thể chia cho 0!\")\n",
    "else:\n",
    "    print(\"Phép toán không hợp lệ!\")"
   ]
  },
  {
   "cell_type": "code",
   "execution_count": 3,
   "id": "38d16c89",
   "metadata": {},
   "outputs": [
    {
     "name": "stdout",
     "output_type": "stream",
     "text": [
      "Tháng 9 thuộc quý 3\n"
     ]
    }
   ],
   "source": [
    "# Câu 9: Nhập vào 1 tháng, xuất ra tháng đó thuộc quý mấy trong năm\n",
    "\n",
    "thang = int(input(\"Nhập vào một tháng (1-12): \"))\n",
    "\n",
    "if 1 <= thang <= 3:\n",
    "    print(f\"Tháng {thang} thuộc quý 1\")\n",
    "elif 4 <= thang <= 6:\n",
    "    print(f\"Tháng {thang} thuộc quý 2\")\n",
    "elif 7 <= thang <= 9:\n",
    "    print(f\"Tháng {thang} thuộc quý 3\")\n",
    "elif 10 <= thang <= 12:\n",
    "    print(f\"Tháng {thang} thuộc quý 4\")\n",
    "else:\n",
    "    print(\"Tháng không hợp lệ!\")"
   ]
  },
  {
   "cell_type": "code",
   "execution_count": 6,
   "id": "c8678293",
   "metadata": {},
   "outputs": [
    {
     "name": "stdout",
     "output_type": "stream",
     "text": [
      "S(10.0, 5) = 1476.6666666666667\n"
     ]
    }
   ],
   "source": [
    "# Câu 10: Tính dãy số S(x, n) = x + x^2/2! + x^3/3! + ... + x^n/n!\n",
    "\n",
    "x = float(input(\"Nhập x: \"))\n",
    "n = int(input(\"Nhập n: \"))\n",
    "\n",
    "s = 0\n",
    "for i in range(1, n + 1):\n",
    "    tu = x ** i\n",
    "    mau = 1\n",
    "    for j in range(1, i + 1):\n",
    "        mau *= j\n",
    "    s += tu / mau\n",
    "\n",
    "print(f\"S({x}, {n}) = {s}\")"
   ]
  },
  {
   "cell_type": "code",
   "execution_count": null,
   "id": "5a27edf8",
   "metadata": {},
   "outputs": [],
   "source": [
    "# Câu 11: Chương trình kiểm tra số nguyên tố\n",
    "\n",
    "def is_prime(n):\n",
    "    if n < 2:\n",
    "        return False\n",
    "    for i in range(2, int(n**0.5) + 1):\n",
    "        if n % i == 0:\n",
    "            return False\n",
    "    return True\n",
    "\n",
    "while True:\n",
    "    num = int(input(\"Nhập một số nguyên: \"))\n",
    "    if is_prime(num):\n",
    "        print(f\"{num} là số nguyên tố.\")\n",
    "    else:\n",
    "        print(f\"{num} không phải là số nguyên tố.\")\n",
    "    tiep_tuc = input(\"Bạn có muốn kiểm tra số khác không? (c/k): \").lower()\n",
    "    if tiep_tuc != 'c':\n",
    "        print(\"Kết thúc chương trình.\")\n",
    "        break"
   ]
  },
  {
   "cell_type": "code",
   "execution_count": 7,
   "id": "8971ca9b",
   "metadata": {},
   "outputs": [
    {
     "name": "stdout",
     "output_type": "stream",
     "text": [
      "2* 1 =  2\t3* 1 =  3\t4* 1 =  4\t5* 1 =  5\t6* 1 =  6\t7* 1 =  7\t8* 1 =  8\t9* 1 =  9\t\n",
      "2* 2 =  4\t3* 2 =  6\t4* 2 =  8\t5* 2 = 10\t6* 2 = 12\t7* 2 = 14\t8* 2 = 16\t9* 2 = 18\t\n",
      "2* 3 =  6\t3* 3 =  9\t4* 3 = 12\t5* 3 = 15\t6* 3 = 18\t7* 3 = 21\t8* 3 = 24\t9* 3 = 27\t\n",
      "2* 4 =  8\t3* 4 = 12\t4* 4 = 16\t5* 4 = 20\t6* 4 = 24\t7* 4 = 28\t8* 4 = 32\t9* 4 = 36\t\n",
      "2* 5 = 10\t3* 5 = 15\t4* 5 = 20\t5* 5 = 25\t6* 5 = 30\t7* 5 = 35\t8* 5 = 40\t9* 5 = 45\t\n",
      "2* 6 = 12\t3* 6 = 18\t4* 6 = 24\t5* 6 = 30\t6* 6 = 36\t7* 6 = 42\t8* 6 = 48\t9* 6 = 54\t\n",
      "2* 7 = 14\t3* 7 = 21\t4* 7 = 28\t5* 7 = 35\t6* 7 = 42\t7* 7 = 49\t8* 7 = 56\t9* 7 = 63\t\n",
      "2* 8 = 16\t3* 8 = 24\t4* 8 = 32\t5* 8 = 40\t6* 8 = 48\t7* 8 = 56\t8* 8 = 64\t9* 8 = 72\t\n",
      "2* 9 = 18\t3* 9 = 27\t4* 9 = 36\t5* 9 = 45\t6* 9 = 54\t7* 9 = 63\t8* 9 = 72\t9* 9 = 81\t\n",
      "2*10 = 20\t3*10 = 30\t4*10 = 40\t5*10 = 50\t6*10 = 60\t7*10 = 70\t8*10 = 80\t9*10 = 90\t\n"
     ]
    }
   ],
   "source": [
    "# Câu 12: Xuất bảng cửu chương từ 2 đến 9\n",
    "\n",
    "for i in range(1, 11):\n",
    "    for j in range(2, 10):\n",
    "        print(f\"{j}*{i:2} = {j*i:2}\", end=\"\\t\")\n",
    "    print()"
   ]
  },
  {
   "cell_type": "code",
   "execution_count": 8,
   "id": "f4945bb0",
   "metadata": {},
   "outputs": [
    {
     "name": "stdout",
     "output_type": "stream",
     "text": [
      "****************************************************************************************************\n"
     ]
    }
   ],
   "source": [
    "# Câu 13: Cho biết bao nhiêu dấu * được in ra trên màn hình\n",
    "\n",
    "a = 0\n",
    "while a < 100:\n",
    "    print('*', end='')\n",
    "    a += 1\n",
    "print()\n",
    "\n",
    "# Kết luận: Có 100 dấu * được in ra màn hình."
   ]
  },
  {
   "cell_type": "code",
   "execution_count": 9,
   "id": "77d0a371",
   "metadata": {},
   "outputs": [
    {
     "name": "stdout",
     "output_type": "stream",
     "text": [
      "********************\n",
      "********************\n",
      "********************\n",
      "********************\n",
      "********************\n",
      "********************\n",
      "********************\n",
      "********************\n",
      "********************\n",
      "********************\n",
      "********************\n",
      "********************\n",
      "********************\n",
      "********************\n",
      "********************\n",
      "********************\n",
      "********************\n",
      "********************\n",
      "********************\n",
      "********************\n",
      "********************\n",
      "********************\n",
      "********************\n",
      "********************\n",
      "********************\n",
      "********************\n",
      "********************\n",
      "********************\n",
      "********************\n",
      "********************\n",
      "********************\n",
      "********************\n",
      "********************\n",
      "********************\n",
      "********************\n",
      "********************\n",
      "********************\n",
      "********************\n",
      "********************\n",
      "********************\n",
      "********************\n",
      "********************\n",
      "********************\n",
      "********************\n",
      "********************\n",
      "********************\n",
      "********************\n",
      "********************\n",
      "********************\n",
      "********************\n",
      "********************\n",
      "********************\n",
      "********************\n",
      "********************\n",
      "********************\n",
      "********************\n",
      "********************\n",
      "********************\n",
      "********************\n",
      "********************\n",
      "********************\n",
      "********************\n",
      "********************\n",
      "********************\n",
      "********************\n",
      "********************\n",
      "********************\n",
      "********************\n",
      "********************\n",
      "********************\n",
      "********************\n",
      "********************\n",
      "********************\n",
      "********************\n",
      "********************\n",
      "********************\n",
      "********************\n",
      "********************\n",
      "********************\n",
      "********************\n",
      "********************\n",
      "********************\n",
      "********************\n",
      "********************\n",
      "********************\n",
      "********************\n",
      "********************\n",
      "********************\n",
      "********************\n",
      "********************\n",
      "********************\n",
      "********************\n",
      "********************\n",
      "********************\n",
      "********************\n",
      "********************\n",
      "********************\n",
      "********************\n",
      "********************\n",
      "********************\n"
     ]
    }
   ],
   "source": [
    "# Câu 14: Cho biết bao nhiêu dấu * được in ra trên màn hình\n",
    "\n",
    "a = 0\n",
    "while a < 100:\n",
    "    b = 0\n",
    "    while b < 40:\n",
    "        if (a + b) % 2 == 0:\n",
    "            print('*', end='')\n",
    "        b += 1\n",
    "    print()\n",
    "    a += 1\n",
    "\n",
    "# Kết luận: Mỗi lần a chạy từ 0 đến 99, b chạy từ 0 đến 39, in ra dấu * nếu (a+b) chẵn.\n",
    "# Tổng số dấu * được in ra là 2000 (vì mỗi dòng có 20 dấu *, 100 dòng)."
   ]
  },
  {
   "cell_type": "code",
   "execution_count": null,
   "id": "0909ef73",
   "metadata": {},
   "outputs": [],
   "source": [
    "# Câu 15: Giải thích cách chạy các dòng lệnh range\n",
    "\n",
    "print(\"(a)\", list(range(5)))           # [0, 1, 2, 3, 4] - từ 0 đến 4, bước 1\n",
    "print(\"(b)\", list(range(5, 10)))       # [5, 6, 7, 8, 9] - từ 5 đến 9, bước 1\n",
    "print(\"(c)\", list(range(5, 20, 3)))    # [5, 8, 11, 14, 17] - từ 5 đến <20, bước 3\n",
    "print(\"(d)\", list(range(20, 5, -1)))   # [20, 19, 18, 17, 16, 15, 14, 13, 12, 11, 10, 9, 8, 7, 6] - từ 20 đến >5, bước -1\n",
    "print(\"(e)\", list(range(20, 5, -3)))   # [20, 17, 14, 11, 8] - từ 20 đến >5, bước -3\n",
    "print(\"(f)\", list(range(10, 5)))       # [] - không có số nào vì mặc định bước +1, 10 > 5 nên rỗng\n",
    "print(\"(g)\", list(range(0)))           # [] - không có số nào\n",
    "print(\"(h)\", list(range(10, 101, 10))) # [10, 20, 30, 40, 50, 60, 70, 80, 90, 100] - từ 10 đến 100, bước 10\n",
    "print(\"(i)\", list(range(10, -1, -1)))  # [10, 9, 8, 7, 6, 5, 4, 3, 2, 1, 0] - từ 10 đến >=0, bước -1\n",
    "print(\"(j)\", list(range(-3, 4)))       # [-3, -2, -1, 0, 1, 2, 3] - từ -3 đến 3, bước 1\n",
    "print(\"(k)\", list(range(0, 10, 1)))    # [0, 1, 2, 3, 4, 5, 6, 7, 8, 9] - từ 0 đến 9, bước 1\n",
    "\n",
    "# Giải thích:\n",
    "# range(start, stop, step) tạo ra dãy số từ start đến nhỏ hơn stop (nếu step > 0) hoặc lớn hơn stop (nếu step < 0), với bước nhảy step."
   ]
  },
  {
   "cell_type": "code",
   "execution_count": null,
   "id": "c0f0b86d",
   "metadata": {},
   "outputs": [],
   "source": [
    "# Câu 16: Cho biết bao nhiêu dấu * được in ra trên màn hình\n",
    "Câu lệnh for a in range(20, 100, 5): print('*', end='') sẽ lặp qua các giá trị bắt đầu từ 20 đến nhỏ hơn 100, với bước nhảy là 5.\n",
    "Các giá trị của a sẽ là: 20, 25, 30, 35, 40, 45, 50, 55, 60, 65, 70, 75, 80, 85, 90, 95.\n",
    "Như vậy, vòng lặp sẽ chạy 16 lần, mỗi lần in ra một dấu *.\n",
    "Kết luận: Có 16 dấu * được in ra trên màn hình."
   ]
  },
  {
   "cell_type": "code",
   "execution_count": null,
   "id": "6bff7731",
   "metadata": {},
   "outputs": [],
   "source": [
    "# Câu 17: Viết lại code dùng break thay cho biến done\n",
    "\n",
    "n, m = 0, 100\n",
    "while n != m:\n",
    "    n = int(input())\n",
    "    if n < 0:\n",
    "        break\n",
    "    print(\"n =\", n)"
   ]
  },
  {
   "cell_type": "code",
   "execution_count": 2,
   "id": "3fa595d8",
   "metadata": {},
   "outputs": [
    {
     "name": "stdout",
     "output_type": "stream",
     "text": [
      "* * * * * * * * \n",
      "*             *\n",
      "*             *\n",
      "*             *\n",
      "*             *\n",
      "*             *\n",
      "*             *\n",
      "* * * * * * * * \n",
      "       *\n",
      "      **\n",
      "     ***\n",
      "    ****\n",
      "   *****\n",
      "  ******\n",
      " *******\n",
      "********\n",
      "*\n",
      "**\n",
      "* *\n",
      "*  *\n",
      "********\n",
      "    *  *\n",
      "     * *\n",
      "      **\n",
      "       *\n"
     ]
    }
   ],
   "source": [
    "#Câu 18\n",
    "n = int(input(\"Nhập chiều cao của hình: \"))\n",
    "#hình vuông\n",
    "for i in range(n):\n",
    "    if i == 0 or i == n - 1:           # hàng đầu & cuối\n",
    "        print(\"* \" * n)\n",
    "    else:                              # hàng giữa\n",
    "        print(\"* \" + \"  \" * (n - 2) + \"*\") #số 2 trong (n-2) là * ở đầu và cuối hàng giữa\n",
    "\n",
    "#hình tam giác vuông\n",
    "for i in range(1, n + 1):\n",
    "    print(\" \" * (n - i) + \"*\" * i)\n",
    "\n",
    "#hình 2 tam giác vuông chéo nhau\n",
    "h = n // 2\n",
    "\n",
    "# Tạo các dòng\n",
    "lines = ['*' * i for i in range(1, h + 1)] + ['*' * n] + [' ' * (n - i) + '*' * i for i in range(h, 0, -1)]\n",
    "\n",
    "# In ra, giữ nguyên dòng giữa\n",
    "for idx, row in enumerate(lines):\n",
    "    if idx == h:  # dòng giữa\n",
    "        print(row)\n",
    "    else:\n",
    "        print(''.join(c if i == 0 or i == len(row)-1 or row[i-1] != '*' or row[i+1] != '*' else ' '\n",
    "                      for i, c in enumerate(row)))"
   ]
  },
  {
   "cell_type": "code",
   "execution_count": 12,
   "id": "9c84400d",
   "metadata": {},
   "outputs": [
    {
     "name": "stdout",
     "output_type": "stream",
     "text": [
      "S(10.0, 2) = 1010.0\n"
     ]
    }
   ],
   "source": [
    "# Câu 19: Tính giá trị biểu thức S(x, n)\n",
    "# S(x, n) = x + x^3/3! + x^5/5! + ... + x^(2n+1)/(2n+1)!\n",
    "\n",
    "x = float(input(\"Nhập x: \"))\n",
    "n = int(input(\"Nhập n: \"))\n",
    "\n",
    "S = 0\n",
    "for i in range(n + 1):\n",
    "    mu = 2 * i + 1\n",
    "    tu = x ** mu\n",
    "    mau = 1\n",
    "    for j in range(1, mu + 1):\n",
    "        mau *= j\n",
    "    S += tu / mau\n",
    "\n",
    "print(f\"S({x}, {n}) = {S}\")"
   ]
  }
 ],
 "metadata": {
  "kernelspec": {
   "display_name": "Python 3",
   "language": "python",
   "name": "python3"
  },
  "language_info": {
   "codemirror_mode": {
    "name": "ipython",
    "version": 3
   },
   "file_extension": ".py",
   "mimetype": "text/x-python",
   "name": "python",
   "nbconvert_exporter": "python",
   "pygments_lexer": "ipython3",
   "version": "3.13.7"
  }
 },
 "nbformat": 4,
 "nbformat_minor": 5
}
