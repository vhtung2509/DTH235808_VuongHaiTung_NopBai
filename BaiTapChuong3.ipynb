{
 "cells": [
  {
   "cell_type": "code",
   "execution_count": null,
   "id": "a4768e39",
   "metadata": {},
   "outputs": [],
   "source": [
    "# Câu 1: Kiểm Tra Năm Nhuần\n",
    "nam = int(input(\"Nhập vào một năm: \"))\n",
    "\n",
    "if (nam % 4 == 0 and nam % 100 != 0) or (nam % 400 == 0):\n",
    "    print(f\"{nam} là năm nhuận.\")\n",
    "else:\n",
    "    print(f\"{nam} không phải là năm nhuận.\")"
   ]
  },
  {
   "cell_type": "code",
   "execution_count": null,
   "id": "dd0a8650",
   "metadata": {},
   "outputs": [],
   "source": [
    "# Câu 2: Đếm số ngày trong tháng\n",
    "print(\"Chương trình đếm số ngày trong tháng.\")\n",
    "month=int(input(\"Nhập vào 1 tháng:\"))\n",
    "if month in (1,3,5,7,8,10,12):\n",
    " print(\"Tháng \", month, \" có 31 ngày\")\n",
    "elif month in (4,6,9,11):\n",
    " print(\"Tháng \", month, \" có 30 ngày\")\n",
    "elif month==2:\n",
    " year=int(input(\"Mời bạn nhập vào năm:\"))\n",
    " if (year % 4 ==0 and year % 100 != 0) or year % 400\n",
    "==0:\n",
    " print(\"Tháng \",month, \" có 29 ngày\")\n",
    " else:\n",
    " print(\"Tháng \", month, \" có 28 ngày\")\n",
    "else:\n",
    " print(\"Tháng \", month, \" không hợp lệ\")"
   ]
  },
  {
   "cell_type": "code",
   "execution_count": null,
   "id": "bb6ef354",
   "metadata": {},
   "outputs": [],
   "source": [
    "# Câu 3: Phương trình bậc 2\n",
    "# Viết chương trình giải phương trình bậc 2: ax2+bx+c=0\n",
    "import math\n",
    "\n",
    "a = float(input(\"Nhập hệ số a: \"))\n",
    "b = float(input(\"Nhập hệ số b: \"))\n",
    "c = float(input(\"Nhập hệ số c: \"))\n",
    "\n",
    "if a == 0:\n",
    "    # Phương trình trở thành bậc nhất bx + c = 0\n",
    "    if b == 0:\n",
    "        if c == 0:\n",
    "            print(\"Phương trình có vô số nghiệm.\")\n",
    "        else:\n",
    "            print(\"Phương trình vô nghiệm.\")\n",
    "    else:\n",
    "        x = -c / b\n",
    "        print(f\"Phương trình có một nghiệm: x = {x}\")\n",
    "else:\n",
    "    delta = b**2 - 4*a*c\n",
    "    if delta < 0:\n",
    "        print(\"Phương trình vô nghiệm.\")\n",
    "    elif delta == 0:\n",
    "        x = -b / (2*a)\n",
    "        print(f\"Phương trình có nghiệm kép: x = {x}\")\n",
    "    else:\n",
    "        x1 = (-b + math.sqrt(delta)) / (2*a)\n",
    "        x2 = (-b - math.sqrt(delta)) / (2*a)\n",
    "        print(f\"Phương trình có 2 nghiệm phân biệt: x1 = {x1}, x2 = {x2}\")"
   ]
  },
  {
   "cell_type": "code",
   "execution_count": null,
   "id": "5695889d",
   "metadata": {},
   "outputs": [],
   "source": [
    "# Câu 4 Hãy cho biết kết quả của Boolean Expression\n",
    "# Cho x, y, z = 3, 5, 7. Hãy cho biết kết quả của Boolean Expression\n",
    "print(\"(a)\", x == 3)                  # True\n",
    "print(\"(b)\", x < y)                   # True\n",
    "print(\"(c)\", x >= y)                  # False\n",
    "print(\"(d)\", x <= y)                  # True\n",
    "print(\"(e)\", x != y - 2)              # False (3 != 5-2 => 3 != 3 => False)\n",
    "print(\"(f)\", x < 10)                  # True\n",
    "print(\"(g)\", x >= 0 and x < 10)       # True (3 >= 0 and 3 < 10)\n",
    "print(\"(h)\", x < 0 and x < 10)        # False (3 < 0 là False)\n",
    "print(\"(i)\", x >= 0 and x < 2)        # False (3 < 2 là False)\n",
    "print(\"(j)\", x < 0 or x < 10)         # True (3 < 10 là True)\n",
    "print(\"(k)\", x > 0 or x < 10)         # True (3 > 0 là True)\n",
    "print(\"(l)\", x < 0 or x > 10)         # False (3 < 0 là False, 3 > 10 là False)"
   ]
  }
 ],
 "metadata": {
  "kernelspec": {
   "display_name": "Python 3",
   "language": "python",
   "name": "python3"
  },
  "language_info": {
   "codemirror_mode": {
    "name": "ipython",
    "version": 3
   },
   "file_extension": ".py",
   "mimetype": "text/x-python",
   "name": "python",
   "nbconvert_exporter": "python",
   "pygments_lexer": "ipython3",
   "version": "3.13.7"
  }
 },
 "nbformat": 4,
 "nbformat_minor": 5
}
