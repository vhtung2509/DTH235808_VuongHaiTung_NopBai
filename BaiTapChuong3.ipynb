{
 "cells": [
  {
   "cell_type": "code",
   "execution_count": null,
   "id": "a4768e39",
   "metadata": {},
   "outputs": [],
   "source": [
    "# Câu 1: Kiểm Tra Năm Nhuần\n",
    "nam = int(input(\"Nhập vào một năm: \"))\n",
    "\n",
    "if (nam % 4 == 0 and nam % 100 != 0) or (nam % 400 == 0):\n",
    "    print(f\"{nam} là năm nhuận.\")\n",
    "else:\n",
    "    print(f\"{nam} không phải là năm nhuận.\")"
   ]
  },
  {
   "cell_type": "code",
   "execution_count": null,
   "id": "dd0a8650",
   "metadata": {},
   "outputs": [],
   "source": [
    "# Câu 2: Đếm số ngày trong tháng\n",
    "print(\"Chương trình đếm số ngày trong tháng.\")\n",
    "month=int(input(\"Nhập vào 1 tháng:\"))\n",
    "if month in (1,3,5,7,8,10,12):\n",
    " print(\"Tháng \", month, \" có 31 ngày\")\n",
    "elif month in (4,6,9,11):\n",
    " print(\"Tháng \", month, \" có 30 ngày\")\n",
    "elif month==2:\n",
    " year=int(input(\"Mời bạn nhập vào năm:\"))\n",
    " if (year % 4 ==0 and year % 100 != 0) or year % 400\n",
    "==0:\n",
    " print(\"Tháng \",month, \" có 29 ngày\")\n",
    " else:\n",
    " print(\"Tháng \", month, \" có 28 ngày\")\n",
    "else:\n",
    " print(\"Tháng \", month, \" không hợp lệ\")"
   ]
  },
  {
   "cell_type": "code",
   "execution_count": null,
   "id": "bb6ef354",
   "metadata": {},
   "outputs": [],
   "source": [
    "# Câu 3: Phương trình bậc 2\n",
    "# Viết chương trình giải phương trình bậc 2: ax2+bx+c=0\n",
    "import math\n",
    "\n",
    "a = float(input(\"Nhập hệ số a: \"))\n",
    "b = float(input(\"Nhập hệ số b: \"))\n",
    "c = float(input(\"Nhập hệ số c: \"))\n",
    "\n",
    "if a == 0:\n",
    "    # Phương trình trở thành bậc nhất bx + c = 0\n",
    "    if b == 0:\n",
    "        if c == 0:\n",
    "            print(\"Phương trình có vô số nghiệm.\")\n",
    "        else:\n",
    "            print(\"Phương trình vô nghiệm.\")\n",
    "    else:\n",
    "        x = -c / b\n",
    "        print(f\"Phương trình có một nghiệm: x = {x}\")\n",
    "else:\n",
    "    delta = b**2 - 4*a*c\n",
    "    if delta < 0:\n",
    "        print(\"Phương trình vô nghiệm.\")\n",
    "    elif delta == 0:\n",
    "        x = -b / (2*a)\n",
    "        print(f\"Phương trình có nghiệm kép: x = {x}\")\n",
    "    else:\n",
    "        x1 = (-b + math.sqrt(delta)) / (2*a)\n",
    "        x2 = (-b - math.sqrt(delta)) / (2*a)\n",
    "        print(f\"Phương trình có 2 nghiệm phân biệt: x1 = {x1}, x2 = {x2}\")"
   ]
  },
  {
   "cell_type": "code",
   "execution_count": null,
   "id": "5695889d",
   "metadata": {},
   "outputs": [],
   "source": [
    "# Câu 4 Hãy cho biết kết quả của Boolean Expression\n",
    "# Cho x, y, z = 3, 5, 7. Hãy cho biết kết quả của Boolean Expression\n",
    "print(\"(a)\", x == 3)                  # True\n",
    "print(\"(b)\", x < y)                   # True\n",
    "print(\"(c)\", x >= y)                  # False\n",
    "print(\"(d)\", x <= y)                  # True\n",
    "print(\"(e)\", x != y - 2)              # False (3 != 5-2 => 3 != 3 => False)\n",
    "print(\"(f)\", x < 10)                  # True\n",
    "print(\"(g)\", x >= 0 and x < 10)       # True (3 >= 0 and 3 < 10)\n",
    "print(\"(h)\", x < 0 and x < 10)        # False (3 < 0 là False)\n",
    "print(\"(i)\", x >= 0 and x < 2)        # False (3 < 2 là False)\n",
    "print(\"(j)\", x < 0 or x < 10)         # True (3 < 10 là True)\n",
    "print(\"(k)\", x > 0 or x < 10)         # True (3 > 0 là True)\n",
    "print(\"(l)\", x < 0 or x > 10)         # False (3 < 0 là False, 3 > 10 là False)"
   ]
  },
  {
   "cell_type": "code",
   "execution_count": null,
   "id": "c4010119",
   "metadata": {},
   "outputs": [],
   "source": [
    "# Câu 5: Cho biết kết quả xuất ra màn hình với các giá trị khác nhau của i, j, k\n",
    "\n",
    "def test_case(i, j, k):\n",
    "    orig = (i, j, k)\n",
    "    if i < j:\n",
    "        if j < k:\n",
    "            i = j\n",
    "        else:\n",
    "            j = k\n",
    "    else:\n",
    "        if j > k:\n",
    "            j = i\n",
    "        else:\n",
    "            i = k\n",
    "    print(f\"Với i, j, k ban đầu = {orig} => Kết quả: i = {i}, j = {j}, k = {k}\")\n",
    "\n",
    "# Các trường hợp đề bài yêu cầu\n",
    "test_case(3, 5, 7)  # (a)\n",
    "test_case(3, 7, 5)  # (b)\n",
    "test_case(5, 3, 7)  # (c)\n",
    "test_case(5, 7, 3)  # (d)\n",
    "test_case(7, 3, 5)  # (e)"
   ]
  },
  {
   "cell_type": "code",
   "execution_count": null,
   "id": "6506633f",
   "metadata": {},
   "outputs": [],
   "source": [
    "# Câu 6: Đọc số n có tối đa 2 chữ số\n",
    "\n",
    "n = int(input(\"Nhập số n (tối đa 2 chữ số): \"))\n",
    "\n",
    "don_vi = [\"\", \"một\", \"hai\", \"ba\", \"bốn\", \"năm\", \"sáu\", \"bảy\", \"tám\", \"chín\"]\n",
    "hang_chuc = [\"\", \"mười\", \"hai mươi\", \"ba mươi\", \"bốn mươi\", \"năm mươi\", \"sáu mươi\", \"bảy mươi\", \"tám mươi\", \"chín mươi\"]\n",
    "\n",
    "if n < 0 or n > 99:\n",
    "    print(\"Vui lòng nhập số từ 0 đến 99.\")\n",
    "elif n == 0:\n",
    "    print(\"Không\")\n",
    "elif n < 10:\n",
    "    print(don_vi[n].capitalize())\n",
    "else:\n",
    "    chuc = n // 10\n",
    "    dv = n % 10\n",
    "    if chuc == 1:\n",
    "        if dv == 0:\n",
    "            print(\"Mười\")\n",
    "        elif dv == 5:\n",
    "            print(\"Mười lăm\")\n",
    "        else:\n",
    "            print(\"Mười\", don_vi[dv])\n",
    "    else:\n",
    "        if dv == 0:\n",
    "            print(hang_chuc[chuc].capitalize())\n",
    "        elif dv == 1:\n",
    "            print(hang_chuc[chuc].capitalize(), \"mốt\")\n",
    "        elif dv == 5:\n",
    "            print(hang_chuc[chuc].capitalize(), \"lăm\")\n",
    "        else:\n",
    "            print(hang_chuc[chuc].capitalize(), don_vi[dv])"
   ]
  },
  {
   "cell_type": "code",
   "execution_count": 1,
   "id": "ee02ea82",
   "metadata": {},
   "outputs": [
    {
     "name": "stdout",
     "output_type": "stream",
     "text": [
      "Ngày kế tiếp là: 16/8/2020\n"
     ]
    }
   ],
   "source": [
    "# Câu 7: Nhập vào một ngày (ngày, tháng, năm). Tìm ngày kế sau ngày vừa nhập (ngày/tháng/năm).\n",
    "\n",
    "def la_nam_nhuan(nam):\n",
    "    return (nam % 4 == 0 and nam % 100 != 0) or (nam % 400 == 0)\n",
    "\n",
    "def so_ngay_trong_thang(thang, nam):\n",
    "    if thang in [1, 3, 5, 7, 8, 10, 12]:\n",
    "        return 31\n",
    "    elif thang in [4, 6, 9, 11]:\n",
    "        return 30\n",
    "    elif thang == 2:\n",
    "        return 29 if la_nam_nhuan(nam) else 28\n",
    "    else:\n",
    "        return 0\n",
    "\n",
    "# Nhập ngày, tháng, năm\n",
    "ngay = int(input(\"Nhập ngày: \"))\n",
    "thang = int(input(\"Nhập tháng: \"))\n",
    "nam = int(input(\"Nhập năm: \"))\n",
    "\n",
    "ngay += 1\n",
    "so_ngay = so_ngay_trong_thang(thang, nam)\n",
    "\n",
    "if ngay > so_ngay:\n",
    "    ngay = 1\n",
    "    thang += 1\n",
    "    if thang > 12:\n",
    "        thang = 1\n",
    "        nam += 1\n",
    "\n",
    "print(f\"Ngày kế tiếp là: {ngay}/{thang}/{nam}\")"
   ]
  },
  {
   "cell_type": "code",
   "execution_count": 2,
   "id": "56dc6fbb",
   "metadata": {},
   "outputs": [
    {
     "name": "stdout",
     "output_type": "stream",
     "text": [
      "10.0 + 3.0 = 13.0\n"
     ]
    }
   ],
   "source": [
    "# Câu 8: Nhập vào 2 giá trị a, b và phép toán ‘+’, ‘-’, ‘*’, ‘/’. Xuất kết quả đúng phép toán\n",
    "\n",
    "a = float(input(\"Nhập giá trị a: \"))\n",
    "b = float(input(\"Nhập giá trị b: \"))\n",
    "op = input(\"Nhập phép toán (+, -, *, /): \")\n",
    "\n",
    "if op == \"+\":\n",
    "    print(f\"{a} + {b} = {a + b}\")\n",
    "elif op == \"-\":\n",
    "    print(f\"{a} - {b} = {a - b}\")\n",
    "elif op == \"*\":\n",
    "    print(f\"{a} * {b} = {a * b}\")\n",
    "elif op == \"/\":\n",
    "    if b != 0:\n",
    "        print(f\"{a} / {b} = {a / b}\")\n",
    "    else:\n",
    "        print(\"Không thể chia cho 0!\")\n",
    "else:\n",
    "    print(\"Phép toán không hợp lệ!\")"
   ]
  },
  {
   "cell_type": "code",
   "execution_count": 3,
   "id": "38d16c89",
   "metadata": {},
   "outputs": [
    {
     "name": "stdout",
     "output_type": "stream",
     "text": [
      "Tháng 9 thuộc quý 3\n"
     ]
    }
   ],
   "source": [
    "# Câu 9: Nhập vào 1 tháng, xuất ra tháng đó thuộc quý mấy trong năm\n",
    "\n",
    "thang = int(input(\"Nhập vào một tháng (1-12): \"))\n",
    "\n",
    "if 1 <= thang <= 3:\n",
    "    print(f\"Tháng {thang} thuộc quý 1\")\n",
    "elif 4 <= thang <= 6:\n",
    "    print(f\"Tháng {thang} thuộc quý 2\")\n",
    "elif 7 <= thang <= 9:\n",
    "    print(f\"Tháng {thang} thuộc quý 3\")\n",
    "elif 10 <= thang <= 12:\n",
    "    print(f\"Tháng {thang} thuộc quý 4\")\n",
    "else:\n",
    "    print(\"Tháng không hợp lệ!\")"
   ]
  }
 ],
 "metadata": {
  "kernelspec": {
   "display_name": "Python 3",
   "language": "python",
   "name": "python3"
  },
  "language_info": {
   "codemirror_mode": {
    "name": "ipython",
    "version": 3
   },
   "file_extension": ".py",
   "mimetype": "text/x-python",
   "name": "python",
   "nbconvert_exporter": "python",
   "pygments_lexer": "ipython3",
   "version": "3.13.7"
  }
 },
 "nbformat": 4,
 "nbformat_minor": 5
}
