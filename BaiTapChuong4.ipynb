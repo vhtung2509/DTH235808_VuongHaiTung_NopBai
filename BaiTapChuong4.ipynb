{
 "cells": [
  {
   "cell_type": "code",
   "execution_count": 3,
   "id": "7df32f31",
   "metadata": {},
   "outputs": [
    {
     "name": "stdout",
     "output_type": "stream",
     "text": [
      "Chương trình tính diện tích Tam Giác\n",
      "Diện tích = 24.206145913796355\n"
     ]
    }
   ],
   "source": [
    "# Câu 1: Nhập vào 3 cạnh của tam giác, kiểm tra tính hợp lệ của tam giác và tính chu vi, sau đó tính diện tích theo công thức Herong.\n",
    "from math import sqrt\n",
    "print(\"Chương trình tính diện tích Tam Giác\")\n",
    "a=float(input(\"Nhập cạnh a>0:\"))\n",
    "b=float(input(\"Nhập cạnh b>0:\"))\n",
    "c=float(input(\"Nhập cạnh c>0:\"))\n",
    "if (a<=0 or b <=0 or c <=0) or (a+b)<=c or (a+c)<=b or b+c<=a:\n",
    " print(\"Tam giác không hợp lệ\")\n",
    "else:\n",
    " cv=a+b+c\n",
    " p=cv/2\n",
    " dt=sqrt(p*(p-a)*(p-b)*(p-c))\n",
    " print(\"Diện tích =\",dt)\n"
   ]
  },
  {
   "cell_type": "code",
   "execution_count": 5,
   "id": "2b0595c7",
   "metadata": {},
   "outputs": [
    {
     "name": "stdout",
     "output_type": "stream",
     "text": [
      "Bạn đoán lần thứ 1\n",
      "Bạn đoán sai, số máy > số bạn\n",
      "Bạn đoán lần thứ 2\n",
      "Bạn đoán sai, số máy > số bạn\n",
      "Bạn đoán lần thứ 3\n",
      "Bạn đoán sai, số máy > số bạn\n",
      "Bạn đoán lần thứ 4\n",
      "Bạn đoán sai, số máy > số bạn\n",
      "Bạn đoán lần thứ 5\n",
      "Bạn đoán sai, số máy > số bạn\n",
      "Bạn đoán lần thứ 6\n",
      "Bạn đoán sai, số máy > số bạn\n",
      "Bạn đoán lần thứ 7\n",
      "Bạn đoán sai, số máy > số bạn\n",
      "GAME OVER!, số máy = 93\n",
      "Cám ơn bạn đã chơi Game!\n"
     ]
    }
   ],
   "source": [
    "# Câu 2: Viết Hàm để chơi Game Đoán Số\n",
    "from random import randrange\n",
    "\n",
    "while True:\n",
    "    somay = randrange(1, 101)\n",
    "    solandoan = 0\n",
    "    win = False\n",
    "    while solandoan < 7:\n",
    "        solandoan += 1\n",
    "        songuoi = int(input(\"Máy đoán [1..100], mời bạn đoán: \"))\n",
    "        print(\"Bạn đoán lần thứ\", solandoan)\n",
    "        if somay == songuoi:\n",
    "            print(\"Chúc mừng bạn đoán đúng, số máy là =\", somay)\n",
    "            win = True\n",
    "            break\n",
    "        if somay > songuoi:\n",
    "            print(\"Bạn đoán sai, số máy > số bạn\")\n",
    "        elif somay < songuoi:\n",
    "            print(\"Bạn đoán sai, số máy < số bạn\")\n",
    "    if not win:\n",
    "        print(\"GAME OVER!, số máy =\", somay)\n",
    "    hoi = input(\"Tiếp không? (c/k): \")\n",
    "    if hoi == \"k\":\n",
    "        break\n",
    "print(\"Cám ơn bạn đã chơi Game!\")"
   ]
  },
  {
   "cell_type": "code",
   "execution_count": 7,
   "id": "4085d912",
   "metadata": {},
   "outputs": [
    {
     "name": "stdout",
     "output_type": "stream",
     "text": [
      "Nhập vào chiều cao (m):\n",
      "Nhập vào cân nặng (kg):\n",
      "BMI của bạn = 0.0\n",
      "Phân loại bạn = Gầy\n",
      "Nguy cơ bệnh của bạn = Thấp\n"
     ]
    }
   ],
   "source": [
    "# Câu 3: Viết Hàm tính BMI\n",
    "def BMI(height, weight):\n",
    "    return weight / (height * height)\n",
    "\n",
    "def PhanLoai(bmi):\n",
    "    if bmi < 18.5:\n",
    "        return \"Gầy\"\n",
    "    elif bmi <= 24.9:\n",
    "        return \"Bình thường\"\n",
    "    elif bmi <= 29.9:\n",
    "        return \"Hơi Béo\"\n",
    "    elif bmi <= 34.9:\n",
    "        return \"Béo Phì Cấp Độ 1\"\n",
    "    elif bmi <= 39.9:\n",
    "        return \"Béo Phì Cấp Độ 2\"\n",
    "    else:\n",
    "        return \"Béo Phì Cấp độ 3\"\n",
    "\n",
    "def NguyCoBenh(bmi):\n",
    "    if bmi < 18.5:\n",
    "        return \"Thấp\"\n",
    "    elif bmi <= 24.9:\n",
    "        return \"Trung Bình\"\n",
    "    elif bmi <= 29.9:\n",
    "        return \"Cao\"\n",
    "    elif bmi <= 34.9:\n",
    "        return \"Cao\"\n",
    "    elif bmi <= 39.9:\n",
    "        return \"Rất cao\"\n",
    "    else:\n",
    "        return \"Nguy Hiểm\"\n",
    "\n",
    "print(\"Nhập vào chiều cao (m):\")\n",
    "height = float(input())\n",
    "print(\"Nhập vào cân nặng (kg):\")\n",
    "weight = float(input())\n",
    "bmi = BMI(height, weight)\n",
    "print(\"BMI của bạn =\", round(bmi, 2))\n",
    "print(\"Phân loại bạn =\", PhanLoai(bmi))\n",
    "print(\"Nguy cơ bệnh của bạn =\", NguyCoBenh(bmi))"
   ]
  },
  {
   "cell_type": "code",
   "execution_count": 11,
   "id": "e36aa7ce",
   "metadata": {},
   "outputs": [
    {
     "name": "stdout",
     "output_type": "stream",
     "text": [
      "Chương trình tính ROI\n",
      "Tỉ Lệ ROI = 3.0\n",
      "==> Nên đầu tư\n"
     ]
    }
   ],
   "source": [
    "\n",
    " # Câu 4: Viết Hàm Tính ROI\n",
    "\n",
    "def ROI(dt, cp):\n",
    "    return (dt - cp) / cp\n",
    "\n",
    "def GoiYDauTu(roi):\n",
    "    if roi >= 0.75:\n",
    "        return \"Nên đầu tư\"\n",
    "    else:\n",
    "        return \"Không nên đầu tư\"\n",
    "\n",
    "print(\"Chương trình tính ROI\")\n",
    "dt = int(input(\"Nhập Doanh Thu: \"))\n",
    "cp = int(input(\"Nhập chi phí: \"))\n",
    "if cp == 0:\n",
    "    print(\"Chi phí phải khác 0!\")\n",
    "else:\n",
    "    roi = ROI(dt, cp)\n",
    "    print(\"Tỉ Lệ ROI =\", round(roi, 2))\n",
    "    print(\"==>\", GoiYDauTu(roi))"
   ]
  },
  {
   "cell_type": "code",
   "execution_count": 14,
   "id": "2cc94651",
   "metadata": {},
   "outputs": [
    {
     "name": "stdout",
     "output_type": "stream",
     "text": [
      "34\n",
      "1\t1\t2\t3\t5\t8\t13\t21\t34\t"
     ]
    }
   ],
   "source": [
    "# Câu 5: Viết hàm đệ qui Fibonacci\n",
    "def fibonacci(n):\n",
    "    if n<=2 :\n",
    "        return 1\n",
    "    return fibonacci(n-1)+fibonacci(n-2)\n",
    "\n",
    "def listfibo(n):\n",
    "    for i in range(1,n+1):\n",
    "     print(fibonacci(i),end='\\t')\n",
    "print(fibonacci(9))\n",
    "listfibo(9)"
   ]
  },
  {
   "cell_type": "code",
   "execution_count": 15,
   "id": "20ff596f",
   "metadata": {},
   "outputs": [
    {
     "name": "stdout",
     "output_type": "stream",
     "text": [
      "Ví dụ 10 giá trị sinh ra từ randrange(0, 100):\n",
      "98 2 33 80 38 14 91 91 6 58 \n",
      "Các giá trị có thể xuất hiện là các số nguyên từ 0 đến 99.\n",
      "Các giá trị sau KHÔNG thể xuất hiện: 4.5, -1, 100\n",
      "Các giá trị sau CÓ thể xuất hiện: 0, 34, 99\n"
     ]
    }
   ],
   "source": [
    "# Câu 6:  Những giá trị nào có thể xuất hiện trong randrange(0, 100)\n",
    "from random import randrange\n",
    "\n",
    "# Sinh thử 10 giá trị để minh họa\n",
    "print(\"Ví dụ 10 giá trị sinh ra từ randrange(0, 100):\")\n",
    "for _ in range(10):\n",
    "    print(randrange(0, 100), end=' ')\n",
    "\n",
    "print(\"\\nCác giá trị có thể xuất hiện là các số nguyên từ 0 đến 99.\")\n",
    "print(\"Các giá trị sau KHÔNG thể xuất hiện: 4.5, -1, 100\")\n",
    "print(\"Các giá trị sau CÓ thể xuất hiện: 0, 34, 99\")"
   ]
  },
  {
   "cell_type": "code",
   "execution_count": 17,
   "id": "4cdd5c17",
   "metadata": {},
   "outputs": [
    {
     "name": "stdout",
     "output_type": "stream",
     "text": [
      "Nhập tọa độ điểm A (xA, yA):\n",
      "Nhập tọa độ điểm B (xB, yB):\n",
      "Độ dài đoạn AB = 15.811388300841896\n"
     ]
    }
   ],
   "source": [
    "# Câu 7: Tính và xuất độ dài đoạn AB\n",
    "from math import sqrt\n",
    "\n",
    "print(\"Nhập tọa độ điểm A (xA, yA):\")\n",
    "xA = float(input(\"xA = \"))\n",
    "yA = float(input(\"yA = \"))\n",
    "\n",
    "print(\"Nhập tọa độ điểm B (xB, yB):\")\n",
    "xB = float(input(\"xB = \"))\n",
    "yB = float(input(\"yB = \"))\n",
    "\n",
    "dAB = sqrt((xB - xA) ** 2 + (yB - yA) ** 2)\n",
    "print(f\"Độ dài đoạn AB = {dAB}\")\n"
   ]
  },
  {
   "cell_type": "code",
   "execution_count": 18,
   "id": "1cb534d8",
   "metadata": {},
   "outputs": [
    {
     "name": "stdout",
     "output_type": "stream",
     "text": [
      "Nhập x (x > 0):\n",
      "Nhập a (a > 0, a ≠ 1):\n",
      "log_a(10.0) = 1.4306765580733933\n"
     ]
    }
   ],
   "source": [
    "# Câu 8: Viết chương trình tính loga\n",
    "from math import log\n",
    "\n",
    "print(\"Nhập x (x > 0):\")\n",
    "x = float(input())\n",
    "print(\"Nhập a (a > 0, a ≠ 1):\")\n",
    "a = float(input())\n",
    "\n",
    "if x > 0 and a > 0 and a != 1:\n",
    "    loga_x = log(x) / log(a)\n",
    "    print(f\"log_a({x}) = {loga_x}\")\n",
    "else:\n",
    "    print(\"Giá trị x và a không hợp lệ (x > 0, a > 0, a ≠ 1).\")"
   ]
  },
  {
   "cell_type": "code",
   "execution_count": 19,
   "id": "9eca9d84",
   "metadata": {},
   "outputs": [
    {
     "name": "stdout",
     "output_type": "stream",
     "text": [
      "Kết quả sau 5 lần lồng căn là: 1.9975909124103448\n"
     ]
    }
   ],
   "source": [
    "# Câu 9: Viết chương trình tính căn bậc 2 lồng nhau\n",
    "import math\n",
    "\n",
    "def can_bac_2_long_nhau(n):\n",
    "    result = 0\n",
    "    for _ in range(n):\n",
    "        result = math.sqrt(2 + result)\n",
    "    return result\n",
    "\n",
    "# Nhập số lần lồng căn\n",
    "so_lan = int(input(\"Nhập số lần lồng căn bậc 2: \"))\n",
    "ket_qua = can_bac_2_long_nhau(so_lan)\n",
    "print(f\"Kết quả sau {so_lan} lần lồng căn là: {ket_qua}\")"
   ]
  },
  {
   "cell_type": "code",
   "execution_count": 5,
   "id": "18b08015",
   "metadata": {},
   "outputs": [
    {
     "name": "stdout",
     "output_type": "stream",
     "text": [
      "\n",
      "       *  \n",
      "       * *  \n",
      "       * * *\n",
      " * * * * * * * \n",
      " * * *\n",
      " * *\n",
      " *\n",
      "\n",
      "\n",
      "       *  \n",
      "       * *  \n",
      "       *   *\n",
      " * * * * * * * \n",
      " *   *\n",
      " * *\n",
      " *\n",
      "\n",
      "\n",
      "      * * * *\n",
      "      * * *\n",
      "      * *\n",
      "      *\n",
      "    * * \n",
      "  * * * \n",
      "* * * * \n",
      "\n",
      "\"\n",
      "      * * * *\n",
      "      *   *\n",
      "      * *\n",
      "      *\n",
      "    * * \n",
      "  *   * \n",
      "* * * * \n",
      "\n"
     ]
    }
   ],
   "source": [
    "# Câu 10: Vẽ hình dùng sleep\n",
    "import time\n",
    "import os\n",
    "\n",
    "def clear():\n",
    "    os.system('cls' if os.name == 'nt' else 'clear')\n",
    "\n",
    "shapes = [\n",
    "    \"\"\"\n",
    "       *  \n",
    "       * *  \n",
    "       * * *\n",
    " * * * * * * * \n",
    " * * *\n",
    " * *\n",
    " *\n",
    "\"\"\",\n",
    "    \"\"\"\n",
    "       *  \n",
    "       * *  \n",
    "       *   *\n",
    " * * * * * * * \n",
    " *   *\n",
    " * *\n",
    " *\n",
    "\"\"\",\n",
    "    \"\"\"\n",
    "      * * * *\n",
    "      * * *\n",
    "      * *\n",
    "      *\n",
    "    * * \n",
    "  * * * \n",
    "* * * * \n",
    "\"\"\",\n",
    "\n",
    "\"\"\"\"\n",
    "      * * * *\n",
    "      *   *\n",
    "      * *\n",
    "      *\n",
    "    * * \n",
    "  *   * \n",
    "* * * * \n",
    "\"\"\",\n",
    "]\n",
    "\n",
    "# In từng hình sau mỗi 5 giây\n",
    "for shape in shapes:\n",
    "    clear()\n",
    "    print(shape)\n",
    "    time.sleep(5)\n"
   ]
  },
  {
   "cell_type": "code",
   "execution_count": 9,
   "id": "24b240a0",
   "metadata": {},
   "outputs": [
    {
     "name": "stdout",
     "output_type": "stream",
     "text": [
      "Trường hợp 1:\n",
      "5\n",
      "5\n",
      "0\n",
      "Trường hợp 2:\n",
      "5\n",
      "5\n",
      "5\n",
      "Trường hợp 3:\n",
      "5\n",
      "5\n",
      "0\n"
     ]
    }
   ],
   "source": [
    "# Câu 11: Kiểm tra kết quả thực hiện\n",
    "# Định nghĩa các hàm\n",
    "def sum1(n):\n",
    "    s = 0\n",
    "    while n > 0:\n",
    "        s += 1\n",
    "        n -= 1\n",
    "    return s\n",
    "\n",
    "def sum2():\n",
    "    global val\n",
    "    s = 0\n",
    "    while val > 0:\n",
    "        s += 1\n",
    "        val -= 1\n",
    "    return s\n",
    "\n",
    "def sum3():\n",
    "    s = 0\n",
    "    for i in range(val, 0, -1):\n",
    "        s += 1\n",
    "    return s\n",
    "\n",
    "\n",
    "# ===== Trường hợp 1 =====\n",
    "def main1():\n",
    "    global val\n",
    "    val = 5\n",
    "    print(\"Trường hợp 1:\")\n",
    "    print(sum1(5))  # in kết quả sum1\n",
    "    print(sum2())   # in kết quả sum2\n",
    "    print(sum3())   # in kết quả sum3\n",
    "\n",
    "# ===== Trường hợp 2 =====\n",
    "def main2():\n",
    "    global val\n",
    "    val = 5\n",
    "    print(\"Trường hợp 2:\")\n",
    "    print(sum1(5))\n",
    "    print(sum3())\n",
    "    print(sum2())\n",
    "\n",
    "# ===== Trường hợp 3 =====\n",
    "def main3():\n",
    "    global val\n",
    "    val = 5\n",
    "    print(\"Trường hợp 3:\")\n",
    "    print(sum2())\n",
    "    print(sum1(5))\n",
    "    print(sum3())\n",
    "\n",
    "\n",
    "# Gọi thử 3 trường hợp\n",
    "main1()\n",
    "main2()\n",
    "main3()"
   ]
  },
  {
   "cell_type": "code",
   "execution_count": null,
   "id": "b4b8d60b",
   "metadata": {},
   "outputs": [
    {
     "name": "stdout",
     "output_type": "stream",
     "text": [
      "-3 3 -2 2 -1 1 0 0 1 -1 2 -2 3 -3 4 -4 \n"
     ]
    }
   ],
   "source": [
    "# Câu 12: Hàm oscillate\n",
    "def oscillate(start, count):\n",
    "    for i in range(start, count):\n",
    "        yield i      # giá trị gốc\n",
    "        yield -i     # giá trị đối xứng qua 0\n",
    "\n",
    "\n",
    "# Test\n",
    "def main():\n",
    "    for n in oscillate(-3, 5):\n",
    "        print(n, end=' ')\n",
    "    print()  # xuống dòng\n",
    "\n",
    "if __name__ == \"__main__\":\n",
    "    main()"
   ]
  },
  {
   "cell_type": "code",
   "execution_count": null,
   "id": "1bdd9006",
   "metadata": {},
   "outputs": [
    {
     "name": "stdout",
     "output_type": "stream",
     "text": [
      "Số 6: Là số hoàn thiện\n",
      "Số 12: Là số thịnh vượng\n",
      "Số 28: Là số hoàn thiện\n",
      "Số 15: Không phải số hoàn thiện/thịnh vượng\n",
      "Số 18: Là số thịnh vượng\n"
     ]
    }
   ],
   "source": [
    "# Câu 13: Hàm kiểm tra số hoàn thiện, số thịnh vượng\n",
    "def sum_of_divisors(n):\n",
    "    \"\"\"Tính tổng các ước số của n (không kể n).\"\"\"\n",
    "    total = 1  # 1 luôn là ước của mọi số > 1\n",
    "    for i in range(2, int(n**0.5) + 1):\n",
    "        if n % i == 0:\n",
    "            total += i\n",
    "            if i != n // i:  # tránh cộng trùng nếu i là căn bậc 2\n",
    "                total += n // i\n",
    "    return total if n > 1 else 0\n",
    "\n",
    "\n",
    "def is_perfect(n):\n",
    "    \"\"\"Kiểm tra số hoàn thiện.\"\"\"\n",
    "    return sum_of_divisors(n) == n\n",
    "\n",
    "\n",
    "def is_abundant(n):\n",
    "    \"\"\"Kiểm tra số thịnh vượng.\"\"\"\n",
    "    return sum_of_divisors(n) > n\n",
    "\n",
    "\n",
    "# ===== Test thử =====\n",
    "def main():\n",
    "    numbers = [6, 12, 28, 15, 18]\n",
    "    for num in numbers:\n",
    "        print(f\"Số {num}: \", end=\"\")\n",
    "        if is_perfect(num):\n",
    "            print(\"Là số hoàn thiện\")\n",
    "        elif is_abundant(num):\n",
    "            print(\"Là số thịnh vượng\")\n",
    "        else:\n",
    "            print(\"Không phải số hoàn thiện/thịnh vượng\")\n",
    "\n",
    "if __name__ == \"__main__\":\n",
    "    main()"
   ]
  }
 ],
 "metadata": {
  "kernelspec": {
   "display_name": "Python 3",
   "language": "python",
   "name": "python3"
  },
  "language_info": {
   "codemirror_mode": {
    "name": "ipython",
    "version": 3
   },
   "file_extension": ".py",
   "mimetype": "text/x-python",
   "name": "python",
   "nbconvert_exporter": "python",
   "pygments_lexer": "ipython3",
   "version": "3.13.7"
  }
 },
 "nbformat": 4,
 "nbformat_minor": 5
}
